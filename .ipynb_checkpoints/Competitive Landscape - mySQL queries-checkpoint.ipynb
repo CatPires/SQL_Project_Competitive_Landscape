{
 "cells": [
  {
   "cell_type": "markdown",
   "metadata": {},
   "source": [
    "# Competitive Landscape SQL Project"
   ]
  },
  {
   "cell_type": "markdown",
   "metadata": {},
   "source": [
    "You were hired by Ironhack to perform an Analytics Consulting Project entitled: competitive landscape.\n",
    "\n",
    "Your mission is to create and populate an appropriate database with many coding schools that are our competition, as well as design an suitable queries that answer business questions of interest (to be defined by you)"
   ]
  },
  {
   "cell_type": "markdown",
   "metadata": {},
   "source": [
    "Populate the list of schools with a wider variety of schools (how are you going to get the school ID?)\n",
    "\n",
    "Take a look at the obtained dataframes. What dimensions do you have? what keys do you have? how could the different dataframes be connected?\n",
    "\n",
    "Go back to the drawing board and try to create an entity relationship diagram for tables available\n",
    "\n",
    "Once you have the schemas you want, you will need to:\n",
    "\n",
    "create the suitable SQL queries to create the tables and populate them\n",
    "run these queries using the appropriate Python connectors\n",
    "Bonus: How will this datamodel be updated in the future? Please write auxiliary functions that test the database for data quality issues. For example: how could you make sure you only include the most recent comments when you re-run the script?\n",
    "\n",
    "Suggested Deliverables\n",
    "5-6 minute presentation of data model created, decision process and business analysis proposed\n",
    "\n",
    "exported .sql file with the final schema\n",
    "\n",
    "Supporting python files used to generate all logic\n",
    "\n",
    "High level documentation explaining tables designed and focusing on update methods\n",
    "\n",
    "Crucial hint: check out the following tutorial: https://www.dataquest.io/blog/sql-insert-tutorial/"
   ]
  },
  {
   "cell_type": "markdown",
   "metadata": {},
   "source": [
    "# Our Queries"
   ]
  },
  {
   "cell_type": "code",
   "execution_count": 1,
   "metadata": {},
   "outputs": [],
   "source": [
    "import mysql.connector"
   ]
  },
  {
   "cell_type": "code",
   "execution_count": null,
   "metadata": {},
   "outputs": [],
   "source": [
    "cnx = mysql.connector.connect(user = \"root\", password = input('password:'),host=\"localhost\",database=\"competitive_landscape\")"
   ]
  },
  {
   "cell_type": "code",
   "execution_count": 3,
   "metadata": {},
   "outputs": [
    {
     "data": {
      "text/plain": [
       "True"
      ]
     },
     "execution_count": 3,
     "metadata": {},
     "output_type": "execute_result"
    }
   ],
   "source": [
    "cnx.is_connected()"
   ]
  },
  {
   "cell_type": "code",
   "execution_count": 4,
   "metadata": {},
   "outputs": [
    {
     "data": {
      "text/plain": [
       "<mysql.connector.cursor.MySQLCursor at 0x1d9d840be50>"
      ]
     },
     "execution_count": 4,
     "metadata": {},
     "output_type": "execute_result"
    }
   ],
   "source": [
    "cursor = cnx.cursor()\n",
    "cursor"
   ]
  },
  {
   "cell_type": "code",
   "execution_count": 5,
   "metadata": {},
   "outputs": [],
   "source": [
    "def queries_execute(x):\n",
    "    cursor.execute(x)\n",
    "    queries_result = cursor.fetchall()\n",
    "    return queries_result"
   ]
  },
  {
   "cell_type": "code",
   "execution_count": 6,
   "metadata": {},
   "outputs": [
    {
     "data": {
      "text/plain": [
       "[(0, 'Cyber Security Bootcamp', 'ironhack', 10828),\n",
       " (1, 'Data Analytics Bootcamp', 'ironhack', 10828),\n",
       " (2, 'Data Analytics Part-Time', 'ironhack', 10828),\n",
       " (3, 'UX/UI Design Bootcamp', 'ironhack', 10828),\n",
       " (4, 'UX/UI Design Part-Time', 'ironhack', 10828),\n",
       " (5, 'Web Development Bootcamp', 'ironhack', 10828),\n",
       " (6, 'Web Development Part-Time', 'ironhack', 10828),\n",
       " (0, 'Bootcamp Prep', 'app-academy', 10525),\n",
       " (1, 'Software Engineer Track: In-Person', 'app-academy', 10525),\n",
       " (2, 'App Academy Open', 'app-academy', 10525),\n",
       " (3, 'Software Engineer Track: Online', 'app-academy', 10525),\n",
       " (0, 'Cyber Security Career Track', 'springboard', 11035),\n",
       " (1, 'Data Analytics Career Track', 'springboard', 11035),\n",
       " (2, 'Data Engineering Career Track', 'springboard', 11035),\n",
       " (3, 'Data Science Career Track', 'springboard', 11035),\n",
       " (4, 'Data Science Career Track Prep', 'springboard', 11035),\n",
       " (5, 'Introduction to Design', 'springboard', 11035),\n",
       " (6, 'Machine Learning Engineering Career Track', 'springboard', 11035),\n",
       " (7, 'Software Engineering Career Track', 'springboard', 11035),\n",
       " (8, 'Software Engineering Career Track Prep Course', 'springboard', 11035),\n",
       " (9, 'UI/UX Design Career Track', 'springboard', 11035),\n",
       " (10, 'UX Career Track', 'springboard', 11035)]"
      ]
     },
     "execution_count": 6,
     "metadata": {},
     "output_type": "execute_result"
    }
   ],
   "source": [
    "queries_execute(\"SELECT * FROM competitive_landscape.courses;\")"
   ]
  },
  {
   "cell_type": "code",
   "execution_count": 7,
   "metadata": {},
   "outputs": [
    {
     "data": {
      "text/plain": [
       "[('www.ironhack.com/en',),\n",
       " ('appacademy.io',),\n",
       " ('www.springboard.com/?utm_source=switchup&utm_medium=course_listing&utm_campaign=branded_link',)]"
      ]
     },
     "execution_count": 7,
     "metadata": {},
     "output_type": "execute_result"
    }
   ],
   "source": [
    "queries_execute(\"SELECT website FROM competitive_landscape.schools;\")"
   ]
  },
  {
   "cell_type": "code",
   "execution_count": null,
   "metadata": {},
   "outputs": [],
   "source": []
  },
  {
   "cell_type": "code",
   "execution_count": null,
   "metadata": {},
   "outputs": [],
   "source": []
  },
  {
   "cell_type": "markdown",
   "metadata": {},
   "source": [
    "# Ironhack - current position"
   ]
  },
  {
   "cell_type": "code",
   "execution_count": null,
   "metadata": {},
   "outputs": [],
   "source": [
    "# Inserir aqui Caracterização atual Ironhack (cursos, oferta,  posição ...)"
   ]
  },
  {
   "cell_type": "code",
   "execution_count": null,
   "metadata": {},
   "outputs": [],
   "source": []
  },
  {
   "cell_type": "code",
   "execution_count": null,
   "metadata": {},
   "outputs": [],
   "source": []
  },
  {
   "cell_type": "code",
   "execution_count": null,
   "metadata": {},
   "outputs": [],
   "source": []
  },
  {
   "cell_type": "code",
   "execution_count": null,
   "metadata": {},
   "outputs": [],
   "source": []
  },
  {
   "cell_type": "code",
   "execution_count": null,
   "metadata": {},
   "outputs": [],
   "source": [
    "# Analise dos dados"
   ]
  },
  {
   "cell_type": "code",
   "execution_count": null,
   "metadata": {},
   "outputs": [],
   "source": [
    "\n",
    "# A diferença de classificação esta relacionada com a empregabilidade - Pedro\n",
    " # badges (job garantee)\n",
    " # classificação na coluna job support \n",
    " # diferença online versus in campus e PT versus bootcamp (job support e curriculum)\n",
    " \n",
    "   \n",
    "#classificação   -  Catarina\n",
    "#+classificação - estão em cidades (+população +escolaridade)\n",
    "\n",
    "#Areas em crescimento    - Catarina\n",
    "# cada curso crescimento por ano (por review feita ano)\n",
    "# cada curso melhoria das revies por ano\n"
   ]
  },
  {
   "cell_type": "code",
   "execution_count": null,
   "metadata": {},
   "outputs": [],
   "source": []
  },
  {
   "cell_type": "code",
   "execution_count": null,
   "metadata": {},
   "outputs": [],
   "source": [
    "# sugestões/oportunidade de negocio"
   ]
  },
  {
   "cell_type": "code",
   "execution_count": null,
   "metadata": {},
   "outputs": [],
   "source": []
  },
  {
   "cell_type": "code",
   "execution_count": null,
   "metadata": {},
   "outputs": [],
   "source": []
  }
 ],
 "metadata": {
  "kernelspec": {
   "display_name": "Python 3",
   "language": "python",
   "name": "python3"
  },
  "language_info": {
   "codemirror_mode": {
    "name": "ipython",
    "version": 3
   },
   "file_extension": ".py",
   "mimetype": "text/x-python",
   "name": "python",
   "nbconvert_exporter": "python",
   "pygments_lexer": "ipython3",
   "version": "3.8.8"
  }
 },
 "nbformat": 4,
 "nbformat_minor": 4
}
